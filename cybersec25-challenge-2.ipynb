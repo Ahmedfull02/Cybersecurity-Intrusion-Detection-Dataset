{
 "cells": [
  {
   "cell_type": "code",
   "execution_count": 1,
   "id": "b5328fff",
   "metadata": {
    "_cell_guid": "b1076dfc-b9ad-4769-8c92-a6c4dae69d19",
    "_uuid": "8f2839f25d086af736a60e9eeb907d3b93b6e0e5",
    "execution": {
     "iopub.execute_input": "2025-08-11T23:44:00.510807Z",
     "iopub.status.busy": "2025-08-11T23:44:00.510448Z",
     "iopub.status.idle": "2025-08-11T23:44:03.201332Z",
     "shell.execute_reply": "2025-08-11T23:44:03.199907Z"
    },
    "papermill": {
     "duration": 2.702555,
     "end_time": "2025-08-11T23:44:03.203804",
     "exception": false,
     "start_time": "2025-08-11T23:44:00.501249",
     "status": "completed"
    },
    "tags": []
   },
   "outputs": [
    {
     "name": "stdout",
     "output_type": "stream",
     "text": [
      "/kaggle/input/cybersecurity-intrusion-detection-dataset/httpswww.kaggle.comdatasetsdnkumarscybersecurity-intrusion-detection-dataset.csv\n"
     ]
    }
   ],
   "source": [
    "# This Python 3 environment comes with many helpful analytics libraries installed\n",
    "# It is defined by the kaggle/python Docker image: https://github.com/kaggle/docker-python\n",
    "# For example, here's several helpful packages to load\n",
    "\n",
    "import numpy as np # linear algebra\n",
    "import pandas as pd # data processing, CSV file I/O (e.g. pd.read_csv)\n",
    "\n",
    "# Input data files are available in the read-only \"../input/\" directory\n",
    "# For example, running this (by clicking run or pressing Shift+Enter) will list all files under the input directory\n",
    "\n",
    "import os\n",
    "for dirname, _, filenames in os.walk('/kaggle/input'):\n",
    "    for filename in filenames:\n",
    "        print(os.path.join(dirname, filename))\n",
    "\n",
    "# You can write up to 20GB to the current directory (/kaggle/working/) that gets preserved as output when you create a version using \"Save & Run All\" \n",
    "# You can also write temporary files to /kaggle/temp/, but they won't be saved outside of the current session"
   ]
  },
  {
   "cell_type": "markdown",
   "id": "93d68f27",
   "metadata": {
    "papermill": {
     "duration": 0.00843,
     "end_time": "2025-08-11T23:44:03.218592",
     "exception": false,
     "start_time": "2025-08-11T23:44:03.210162",
     "status": "completed"
    },
    "tags": []
   },
   "source": [
    "# AI-powered Intrusion Detection System"
   ]
  },
  {
   "cell_type": "markdown",
   "id": "a9893840",
   "metadata": {
    "papermill": {
     "duration": 0.005546,
     "end_time": "2025-08-11T23:44:03.230989",
     "exception": false,
     "start_time": "2025-08-11T23:44:03.225443",
     "status": "completed"
    },
    "tags": []
   },
   "source": [
    "> **This Notebook designed to develop an AI-powered Intrusion Detection System for a company’s network using a labeled dataset containing both network traffic features and user behavior features. The goal of this system is to detect cyber intrusions in real-time while minimizing false alarms.**\n",
    "\n"
   ]
  },
  {
   "cell_type": "markdown",
   "id": "be1786a9",
   "metadata": {
    "papermill": {
     "duration": 0.005774,
     "end_time": "2025-08-11T23:44:03.245033",
     "exception": false,
     "start_time": "2025-08-11T23:44:03.239259",
     "status": "completed"
    },
    "tags": []
   },
   "source": [
    "## **I** About Dataset"
   ]
  },
  {
   "cell_type": "markdown",
   "id": "fcc53825",
   "metadata": {
    "papermill": {
     "duration": 0.005277,
     "end_time": "2025-08-11T23:44:03.255948",
     "exception": false,
     "start_time": "2025-08-11T23:44:03.250671",
     "status": "completed"
    },
    "tags": []
   },
   "source": [
    "Cybersecurity Intrusion Detection Dataset is designed for detecting cyber intrusions based on network traffic and user behavior. Below, I’ll explain each aspect in detail, including the dataset structure, feature importance, possible analysis approaches, and how it can be used for machine learning.\n"
   ]
  },
  {
   "cell_type": "code",
   "execution_count": 2,
   "id": "f7d695ec",
   "metadata": {
    "execution": {
     "iopub.execute_input": "2025-08-11T23:44:03.271878Z",
     "iopub.status.busy": "2025-08-11T23:44:03.269747Z",
     "iopub.status.idle": "2025-08-11T23:44:06.145807Z",
     "shell.execute_reply": "2025-08-11T23:44:06.144737Z"
    },
    "papermill": {
     "duration": 2.885411,
     "end_time": "2025-08-11T23:44:06.147933",
     "exception": false,
     "start_time": "2025-08-11T23:44:03.262522",
     "status": "completed"
    },
    "tags": []
   },
   "outputs": [
    {
     "data": {
      "text/html": [
       "<div>\n",
       "<style scoped>\n",
       "    .dataframe tbody tr th:only-of-type {\n",
       "        vertical-align: middle;\n",
       "    }\n",
       "\n",
       "    .dataframe tbody tr th {\n",
       "        vertical-align: top;\n",
       "    }\n",
       "\n",
       "    .dataframe thead th {\n",
       "        text-align: right;\n",
       "    }\n",
       "</style>\n",
       "<table border=\"1\" class=\"dataframe\">\n",
       "  <thead>\n",
       "    <tr style=\"text-align: right;\">\n",
       "      <th></th>\n",
       "      <th>session_id</th>\n",
       "      <th>network_packet_size</th>\n",
       "      <th>protocol_type</th>\n",
       "      <th>login_attempts</th>\n",
       "      <th>session_duration</th>\n",
       "      <th>encryption_used</th>\n",
       "      <th>ip_reputation_score</th>\n",
       "      <th>failed_logins</th>\n",
       "      <th>browser_type</th>\n",
       "      <th>unusual_time_access</th>\n",
       "      <th>attack_detected</th>\n",
       "    </tr>\n",
       "  </thead>\n",
       "  <tbody>\n",
       "    <tr>\n",
       "      <th>0</th>\n",
       "      <td>SID_00001</td>\n",
       "      <td>599</td>\n",
       "      <td>TCP</td>\n",
       "      <td>4</td>\n",
       "      <td>492.983263</td>\n",
       "      <td>DES</td>\n",
       "      <td>0.606818</td>\n",
       "      <td>1</td>\n",
       "      <td>Edge</td>\n",
       "      <td>0</td>\n",
       "      <td>1</td>\n",
       "    </tr>\n",
       "    <tr>\n",
       "      <th>1</th>\n",
       "      <td>SID_00002</td>\n",
       "      <td>472</td>\n",
       "      <td>TCP</td>\n",
       "      <td>3</td>\n",
       "      <td>1557.996461</td>\n",
       "      <td>DES</td>\n",
       "      <td>0.301569</td>\n",
       "      <td>0</td>\n",
       "      <td>Firefox</td>\n",
       "      <td>0</td>\n",
       "      <td>0</td>\n",
       "    </tr>\n",
       "    <tr>\n",
       "      <th>2</th>\n",
       "      <td>SID_00003</td>\n",
       "      <td>629</td>\n",
       "      <td>TCP</td>\n",
       "      <td>3</td>\n",
       "      <td>75.044262</td>\n",
       "      <td>DES</td>\n",
       "      <td>0.739164</td>\n",
       "      <td>2</td>\n",
       "      <td>Chrome</td>\n",
       "      <td>0</td>\n",
       "      <td>1</td>\n",
       "    </tr>\n",
       "    <tr>\n",
       "      <th>3</th>\n",
       "      <td>SID_00004</td>\n",
       "      <td>804</td>\n",
       "      <td>UDP</td>\n",
       "      <td>4</td>\n",
       "      <td>601.248835</td>\n",
       "      <td>DES</td>\n",
       "      <td>0.123267</td>\n",
       "      <td>0</td>\n",
       "      <td>Unknown</td>\n",
       "      <td>0</td>\n",
       "      <td>1</td>\n",
       "    </tr>\n",
       "    <tr>\n",
       "      <th>4</th>\n",
       "      <td>SID_00005</td>\n",
       "      <td>453</td>\n",
       "      <td>TCP</td>\n",
       "      <td>5</td>\n",
       "      <td>532.540888</td>\n",
       "      <td>AES</td>\n",
       "      <td>0.054874</td>\n",
       "      <td>1</td>\n",
       "      <td>Firefox</td>\n",
       "      <td>0</td>\n",
       "      <td>0</td>\n",
       "    </tr>\n",
       "    <tr>\n",
       "      <th>5</th>\n",
       "      <td>SID_00006</td>\n",
       "      <td>453</td>\n",
       "      <td>UDP</td>\n",
       "      <td>5</td>\n",
       "      <td>380.471550</td>\n",
       "      <td>AES</td>\n",
       "      <td>0.422486</td>\n",
       "      <td>2</td>\n",
       "      <td>Chrome</td>\n",
       "      <td>1</td>\n",
       "      <td>0</td>\n",
       "    </tr>\n",
       "    <tr>\n",
       "      <th>6</th>\n",
       "      <td>SID_00007</td>\n",
       "      <td>815</td>\n",
       "      <td>ICMP</td>\n",
       "      <td>4</td>\n",
       "      <td>728.107165</td>\n",
       "      <td>AES</td>\n",
       "      <td>0.413772</td>\n",
       "      <td>1</td>\n",
       "      <td>Chrome</td>\n",
       "      <td>0</td>\n",
       "      <td>1</td>\n",
       "    </tr>\n",
       "    <tr>\n",
       "      <th>7</th>\n",
       "      <td>SID_00008</td>\n",
       "      <td>653</td>\n",
       "      <td>TCP</td>\n",
       "      <td>3</td>\n",
       "      <td>12.599906</td>\n",
       "      <td>DES</td>\n",
       "      <td>0.097719</td>\n",
       "      <td>3</td>\n",
       "      <td>Chrome</td>\n",
       "      <td>1</td>\n",
       "      <td>1</td>\n",
       "    </tr>\n",
       "    <tr>\n",
       "      <th>8</th>\n",
       "      <td>SID_00009</td>\n",
       "      <td>406</td>\n",
       "      <td>TCP</td>\n",
       "      <td>2</td>\n",
       "      <td>542.558895</td>\n",
       "      <td>NaN</td>\n",
       "      <td>0.294580</td>\n",
       "      <td>0</td>\n",
       "      <td>Chrome</td>\n",
       "      <td>1</td>\n",
       "      <td>0</td>\n",
       "    </tr>\n",
       "    <tr>\n",
       "      <th>9</th>\n",
       "      <td>SID_00010</td>\n",
       "      <td>608</td>\n",
       "      <td>UDP</td>\n",
       "      <td>6</td>\n",
       "      <td>531.944107</td>\n",
       "      <td>NaN</td>\n",
       "      <td>0.424117</td>\n",
       "      <td>1</td>\n",
       "      <td>Chrome</td>\n",
       "      <td>0</td>\n",
       "      <td>0</td>\n",
       "    </tr>\n",
       "  </tbody>\n",
       "</table>\n",
       "</div>"
      ],
      "text/plain": [
       "  session_id  network_packet_size protocol_type  login_attempts  \\\n",
       "0  SID_00001                  599           TCP               4   \n",
       "1  SID_00002                  472           TCP               3   \n",
       "2  SID_00003                  629           TCP               3   \n",
       "3  SID_00004                  804           UDP               4   \n",
       "4  SID_00005                  453           TCP               5   \n",
       "5  SID_00006                  453           UDP               5   \n",
       "6  SID_00007                  815          ICMP               4   \n",
       "7  SID_00008                  653           TCP               3   \n",
       "8  SID_00009                  406           TCP               2   \n",
       "9  SID_00010                  608           UDP               6   \n",
       "\n",
       "   session_duration encryption_used  ip_reputation_score  failed_logins  \\\n",
       "0        492.983263             DES             0.606818              1   \n",
       "1       1557.996461             DES             0.301569              0   \n",
       "2         75.044262             DES             0.739164              2   \n",
       "3        601.248835             DES             0.123267              0   \n",
       "4        532.540888             AES             0.054874              1   \n",
       "5        380.471550             AES             0.422486              2   \n",
       "6        728.107165             AES             0.413772              1   \n",
       "7         12.599906             DES             0.097719              3   \n",
       "8        542.558895             NaN             0.294580              0   \n",
       "9        531.944107             NaN             0.424117              1   \n",
       "\n",
       "  browser_type  unusual_time_access  attack_detected  \n",
       "0         Edge                    0                1  \n",
       "1      Firefox                    0                0  \n",
       "2       Chrome                    0                1  \n",
       "3      Unknown                    0                1  \n",
       "4      Firefox                    0                0  \n",
       "5       Chrome                    1                0  \n",
       "6       Chrome                    0                1  \n",
       "7       Chrome                    1                1  \n",
       "8       Chrome                    1                0  \n",
       "9       Chrome                    0                0  "
      ]
     },
     "execution_count": 2,
     "metadata": {},
     "output_type": "execute_result"
    }
   ],
   "source": [
    "import pandas as pd\n",
    "import seaborn as sns\n",
    "import matplotlib.pyplot as plt\n",
    "\n",
    "data = pd.read_csv(\"/kaggle/input/cybersecurity-intrusion-detection-dataset/httpswww.kaggle.comdatasetsdnkumarscybersecurity-intrusion-detection-dataset.csv\") \n",
    "\n",
    "data.head(10)"
   ]
  },
  {
   "cell_type": "markdown",
   "id": "85e745f9",
   "metadata": {
    "papermill": {
     "duration": 0.007291,
     "end_time": "2025-08-11T23:44:06.161866",
     "exception": false,
     "start_time": "2025-08-11T23:44:06.154575",
     "status": "completed"
    },
    "tags": []
   },
   "source": [
    "## 1. Understanding the Features"
   ]
  },
  {
   "cell_type": "markdown",
   "id": "1d97f7db",
   "metadata": {
    "papermill": {
     "duration": 0.006378,
     "end_time": "2025-08-11T23:44:06.174628",
     "exception": false,
     "start_time": "2025-08-11T23:44:06.168250",
     "status": "completed"
    },
    "tags": []
   },
   "source": [
    "### A. Network-Based Features"
   ]
  },
  {
   "cell_type": "markdown",
   "id": "2c845f32",
   "metadata": {
    "papermill": {
     "duration": 0.006378,
     "end_time": "2025-08-11T23:44:06.188102",
     "exception": false,
     "start_time": "2025-08-11T23:44:06.181724",
     "status": "completed"
    },
    "tags": []
   },
   "source": [
    "#### 1. network_packet_size (Packet Size in Bytes)\n",
    "* Represents the size of network packets, ranging between 64 to 1500 bytes.\n",
    "* Packets on the lower end (64 bytes) may indicate control messages, while larger packets (~1500 bytes) often carry bulk data.\n",
    "* Attackers may use abnormally small or large packets for reconnaissance or exploitation attempts.\n"
   ]
  },
  {
   "cell_type": "code",
   "execution_count": 3,
   "id": "6caf431e",
   "metadata": {
    "execution": {
     "iopub.execute_input": "2025-08-11T23:44:06.204742Z",
     "iopub.status.busy": "2025-08-11T23:44:06.204374Z",
     "iopub.status.idle": "2025-08-11T23:44:06.224555Z",
     "shell.execute_reply": "2025-08-11T23:44:06.223199Z"
    },
    "papermill": {
     "duration": 0.029913,
     "end_time": "2025-08-11T23:44:06.226758",
     "exception": false,
     "start_time": "2025-08-11T23:44:06.196845",
     "status": "completed"
    },
    "tags": []
   },
   "outputs": [
    {
     "data": {
      "text/plain": [
       "count    9537.000000\n",
       "mean      500.430639\n",
       "std       198.379364\n",
       "min        64.000000\n",
       "25%       365.000000\n",
       "50%       499.000000\n",
       "75%       635.000000\n",
       "max      1285.000000\n",
       "Name: network_packet_size, dtype: float64"
      ]
     },
     "execution_count": 3,
     "metadata": {},
     "output_type": "execute_result"
    }
   ],
   "source": [
    "data['network_packet_size'].describe()"
   ]
  },
  {
   "cell_type": "markdown",
   "id": "dc0580df",
   "metadata": {
    "papermill": {
     "duration": 0.007929,
     "end_time": "2025-08-11T23:44:06.241601",
     "exception": false,
     "start_time": "2025-08-11T23:44:06.233672",
     "status": "completed"
    },
    "tags": []
   },
   "source": [
    "#### 2. protocol_type (Communication Protocol)\n",
    "* The protocol used in the session: TCP, UDP, or ICMP.\n",
    "* TCP (Transmission Control Protocol): Reliable, connection-oriented (common for HTTP, HTTPS, SSH).\n",
    "* UDP (User Datagram Protocol): Faster but less reliable (used for VoIP, streaming).\n",
    "* ICMP (Internet Control Message Protocol): Used for network diagnostics (ping); often abused in Denial-of-Service (DoS) attacks.\n"
   ]
  },
  {
   "cell_type": "code",
   "execution_count": 4,
   "id": "1b28cb14",
   "metadata": {
    "execution": {
     "iopub.execute_input": "2025-08-11T23:44:06.255246Z",
     "iopub.status.busy": "2025-08-11T23:44:06.254873Z",
     "iopub.status.idle": "2025-08-11T23:44:06.266105Z",
     "shell.execute_reply": "2025-08-11T23:44:06.264991Z"
    },
    "papermill": {
     "duration": 0.020455,
     "end_time": "2025-08-11T23:44:06.268298",
     "exception": false,
     "start_time": "2025-08-11T23:44:06.247843",
     "status": "completed"
    },
    "tags": []
   },
   "outputs": [
    {
     "data": {
      "text/plain": [
       "array(['TCP', 'UDP', 'ICMP'], dtype=object)"
      ]
     },
     "execution_count": 4,
     "metadata": {},
     "output_type": "execute_result"
    }
   ],
   "source": [
    "data['protocol_type'].unique()"
   ]
  },
  {
   "cell_type": "markdown",
   "id": "a55bc719",
   "metadata": {
    "papermill": {
     "duration": 0.005733,
     "end_time": "2025-08-11T23:44:06.280337",
     "exception": false,
     "start_time": "2025-08-11T23:44:06.274604",
     "status": "completed"
    },
    "tags": []
   },
   "source": [
    "#### 3. encryption_used (Encryption Protocol)\n",
    "* Values: AES, DES, None.\n",
    "* AES (Advanced Encryption Standard): Strong encryption, commonly used.\n",
    "* DES (Data Encryption Standard): Older encryption, weaker security.\n",
    "* None: Indicates unencrypted communication, which can be risky.\n",
    "\n",
    "Attackers might use no encryption to avoid detection or weak encryption to exploit vulnerabilities."
   ]
  },
  {
   "cell_type": "code",
   "execution_count": 5,
   "id": "4167c6af",
   "metadata": {
    "execution": {
     "iopub.execute_input": "2025-08-11T23:44:06.294806Z",
     "iopub.status.busy": "2025-08-11T23:44:06.294422Z",
     "iopub.status.idle": "2025-08-11T23:44:06.304638Z",
     "shell.execute_reply": "2025-08-11T23:44:06.303255Z"
    },
    "papermill": {
     "duration": 0.020604,
     "end_time": "2025-08-11T23:44:06.307106",
     "exception": false,
     "start_time": "2025-08-11T23:44:06.286502",
     "status": "completed"
    },
    "tags": []
   },
   "outputs": [
    {
     "data": {
      "text/plain": [
       "array(['DES', 'AES', nan], dtype=object)"
      ]
     },
     "execution_count": 5,
     "metadata": {},
     "output_type": "execute_result"
    }
   ],
   "source": [
    "data['encryption_used'].unique()"
   ]
  },
  {
   "cell_type": "markdown",
   "id": "ccde2575",
   "metadata": {
    "papermill": {
     "duration": 0.00602,
     "end_time": "2025-08-11T23:44:06.320433",
     "exception": false,
     "start_time": "2025-08-11T23:44:06.314413",
     "status": "completed"
    },
    "tags": []
   },
   "source": [
    "### B. User Behavior-Based Features\n",
    "These features track user activities, such as login attempts and session duration."
   ]
  },
  {
   "cell_type": "markdown",
   "id": "f3e13d0c",
   "metadata": {
    "papermill": {
     "duration": 0.00717,
     "end_time": "2025-08-11T23:44:06.335537",
     "exception": false,
     "start_time": "2025-08-11T23:44:06.328367",
     "status": "completed"
    },
    "tags": []
   },
   "source": [
    "#### 1. login_attempts (Number of Logins)\n",
    "* High values might indicate brute-force attacks (repeated login attempts).\n",
    "* Typical users have 1–3 login attempts, while an attack may have hundreds or thousands.\n"
   ]
  },
  {
   "cell_type": "code",
   "execution_count": 6,
   "id": "133cf0f6",
   "metadata": {
    "execution": {
     "iopub.execute_input": "2025-08-11T23:44:06.351898Z",
     "iopub.status.busy": "2025-08-11T23:44:06.351477Z",
     "iopub.status.idle": "2025-08-11T23:44:06.362837Z",
     "shell.execute_reply": "2025-08-11T23:44:06.361627Z"
    },
    "papermill": {
     "duration": 0.023583,
     "end_time": "2025-08-11T23:44:06.365445",
     "exception": false,
     "start_time": "2025-08-11T23:44:06.341862",
     "status": "completed"
    },
    "tags": []
   },
   "outputs": [
    {
     "data": {
      "text/plain": [
       "array([ 4,  3,  5,  2,  6,  9,  8,  1,  7, 10, 12, 13, 11])"
      ]
     },
     "execution_count": 6,
     "metadata": {},
     "output_type": "execute_result"
    }
   ],
   "source": [
    "data['login_attempts'].unique()"
   ]
  },
  {
   "cell_type": "markdown",
   "id": "cfef96d4",
   "metadata": {
    "papermill": {
     "duration": 0.007514,
     "end_time": "2025-08-11T23:44:06.379892",
     "exception": false,
     "start_time": "2025-08-11T23:44:06.372378",
     "status": "completed"
    },
    "tags": []
   },
   "source": [
    "#### 2.session_duration (Session Length in Seconds)\n",
    "* A very long session might indicate unauthorized access or persistence by an attacker.\n",
    "* Attackers may try to stay connected to maintain access.\n"
   ]
  },
  {
   "cell_type": "code",
   "execution_count": 7,
   "id": "a3481f51",
   "metadata": {
    "execution": {
     "iopub.execute_input": "2025-08-11T23:44:06.395309Z",
     "iopub.status.busy": "2025-08-11T23:44:06.394339Z",
     "iopub.status.idle": "2025-08-11T23:44:06.410911Z",
     "shell.execute_reply": "2025-08-11T23:44:06.408784Z"
    },
    "papermill": {
     "duration": 0.026607,
     "end_time": "2025-08-11T23:44:06.413053",
     "exception": false,
     "start_time": "2025-08-11T23:44:06.386446",
     "status": "completed"
    },
    "tags": []
   },
   "outputs": [
    {
     "data": {
      "text/plain": [
       "count    9537.000000\n",
       "mean      792.745312\n",
       "std       786.560144\n",
       "min         0.500000\n",
       "25%       231.953006\n",
       "50%       556.277457\n",
       "75%      1105.380602\n",
       "max      7190.392213\n",
       "Name: session_duration, dtype: float64"
      ]
     },
     "execution_count": 7,
     "metadata": {},
     "output_type": "execute_result"
    }
   ],
   "source": [
    "data['session_duration'].describe()"
   ]
  },
  {
   "cell_type": "markdown",
   "id": "18afc280",
   "metadata": {
    "papermill": {
     "duration": 0.006511,
     "end_time": "2025-08-11T23:44:06.426259",
     "exception": false,
     "start_time": "2025-08-11T23:44:06.419748",
     "status": "completed"
    },
    "tags": []
   },
   "source": [
    "#### 3. failed_logins (Failed Login Attempts)\n",
    "* High failed login counts indicate credential stuffing or dictionary attacks.\n",
    "* Many failed attempts followed by a successful login could suggest an account was compromised."
   ]
  },
  {
   "cell_type": "code",
   "execution_count": 8,
   "id": "e52067bc",
   "metadata": {
    "execution": {
     "iopub.execute_input": "2025-08-11T23:44:06.456003Z",
     "iopub.status.busy": "2025-08-11T23:44:06.455555Z",
     "iopub.status.idle": "2025-08-11T23:44:06.465605Z",
     "shell.execute_reply": "2025-08-11T23:44:06.464424Z"
    },
    "papermill": {
     "duration": 0.021356,
     "end_time": "2025-08-11T23:44:06.468486",
     "exception": false,
     "start_time": "2025-08-11T23:44:06.447130",
     "status": "completed"
    },
    "tags": []
   },
   "outputs": [
    {
     "data": {
      "text/plain": [
       "array([1, 0, 2, 3, 4, 5])"
      ]
     },
     "execution_count": 8,
     "metadata": {},
     "output_type": "execute_result"
    }
   ],
   "source": [
    "data['failed_logins'].unique()"
   ]
  },
  {
   "cell_type": "markdown",
   "id": "3a217b60",
   "metadata": {
    "papermill": {
     "duration": 0.006796,
     "end_time": "2025-08-11T23:44:06.482282",
     "exception": false,
     "start_time": "2025-08-11T23:44:06.475486",
     "status": "completed"
    },
    "tags": []
   },
   "source": [
    "#### 4.unusual_time_access (Login Time Anomaly)\n",
    "* A binary flag (0 or 1) indicating whether access happened at an unusual time.\n",
    "* Attackers often operate outside normal business hours to evade detection.\n"
   ]
  },
  {
   "cell_type": "code",
   "execution_count": 9,
   "id": "e3182d9e",
   "metadata": {
    "execution": {
     "iopub.execute_input": "2025-08-11T23:44:06.500557Z",
     "iopub.status.busy": "2025-08-11T23:44:06.500132Z",
     "iopub.status.idle": "2025-08-11T23:44:06.509618Z",
     "shell.execute_reply": "2025-08-11T23:44:06.507894Z"
    },
    "papermill": {
     "duration": 0.020818,
     "end_time": "2025-08-11T23:44:06.511785",
     "exception": false,
     "start_time": "2025-08-11T23:44:06.490967",
     "status": "completed"
    },
    "tags": []
   },
   "outputs": [
    {
     "data": {
      "text/plain": [
       "array([0, 1])"
      ]
     },
     "execution_count": 9,
     "metadata": {},
     "output_type": "execute_result"
    }
   ],
   "source": [
    "data['unusual_time_access'].unique()"
   ]
  },
  {
   "cell_type": "markdown",
   "id": "e44e787a",
   "metadata": {
    "papermill": {
     "duration": 0.006452,
     "end_time": "2025-08-11T23:44:06.525103",
     "exception": false,
     "start_time": "2025-08-11T23:44:06.518651",
     "status": "completed"
    },
    "tags": []
   },
   "source": [
    "#### 5.ip_reputation_score (Trustworthiness of IP Address)\n",
    "* A score from 0 to 1, where higher values indicate suspicious activity.\n",
    "* IP addresses associated with botnets, spam, or previous attacks tend to have higher scores."
   ]
  },
  {
   "cell_type": "code",
   "execution_count": 10,
   "id": "e48e89a3",
   "metadata": {
    "execution": {
     "iopub.execute_input": "2025-08-11T23:44:06.540104Z",
     "iopub.status.busy": "2025-08-11T23:44:06.539735Z",
     "iopub.status.idle": "2025-08-11T23:44:06.556490Z",
     "shell.execute_reply": "2025-08-11T23:44:06.554942Z"
    },
    "papermill": {
     "duration": 0.027134,
     "end_time": "2025-08-11T23:44:06.559078",
     "exception": false,
     "start_time": "2025-08-11T23:44:06.531944",
     "status": "completed"
    },
    "tags": []
   },
   "outputs": [
    {
     "data": {
      "text/plain": [
       "count    9537.000000\n",
       "mean        0.331338\n",
       "std         0.177175\n",
       "min         0.002497\n",
       "25%         0.191946\n",
       "50%         0.314778\n",
       "75%         0.453388\n",
       "max         0.924299\n",
       "Name: ip_reputation_score, dtype: float64"
      ]
     },
     "execution_count": 10,
     "metadata": {},
     "output_type": "execute_result"
    }
   ],
   "source": [
    "data['ip_reputation_score'].describe()"
   ]
  },
  {
   "cell_type": "markdown",
   "id": "66798b01",
   "metadata": {
    "papermill": {
     "duration": 0.01128,
     "end_time": "2025-08-11T23:44:06.577201",
     "exception": false,
     "start_time": "2025-08-11T23:44:06.565921",
     "status": "completed"
    },
    "tags": []
   },
   "source": [
    "\n",
    "#### 6.browser_type (User’s Browser)\n",
    "* Common browsers: Chrome, Firefox, Edge, Safari.\n",
    "* Unknown: Could be an indicator of automated scripts or bots."
   ]
  },
  {
   "cell_type": "code",
   "execution_count": 11,
   "id": "8ccd5fe5",
   "metadata": {
    "execution": {
     "iopub.execute_input": "2025-08-11T23:44:06.597034Z",
     "iopub.status.busy": "2025-08-11T23:44:06.595318Z",
     "iopub.status.idle": "2025-08-11T23:44:06.607487Z",
     "shell.execute_reply": "2025-08-11T23:44:06.605718Z"
    },
    "papermill": {
     "duration": 0.023248,
     "end_time": "2025-08-11T23:44:06.609887",
     "exception": false,
     "start_time": "2025-08-11T23:44:06.586639",
     "status": "completed"
    },
    "tags": []
   },
   "outputs": [
    {
     "data": {
      "text/plain": [
       "array(['Edge', 'Firefox', 'Chrome', 'Unknown', 'Safari'], dtype=object)"
      ]
     },
     "execution_count": 11,
     "metadata": {},
     "output_type": "execute_result"
    }
   ],
   "source": [
    "data['browser_type'].unique()"
   ]
  },
  {
   "cell_type": "markdown",
   "id": "fd59b867",
   "metadata": {
    "papermill": {
     "duration": 0.006452,
     "end_time": "2025-08-11T23:44:06.625484",
     "exception": false,
     "start_time": "2025-08-11T23:44:06.619032",
     "status": "completed"
    },
    "tags": []
   },
   "source": [
    "## **II** Data Exploration & Cleaning"
   ]
  },
  {
   "cell_type": "code",
   "execution_count": 12,
   "id": "8d70c711",
   "metadata": {
    "execution": {
     "iopub.execute_input": "2025-08-11T23:44:06.640128Z",
     "iopub.status.busy": "2025-08-11T23:44:06.639793Z",
     "iopub.status.idle": "2025-08-11T23:44:06.666887Z",
     "shell.execute_reply": "2025-08-11T23:44:06.665692Z"
    },
    "papermill": {
     "duration": 0.037025,
     "end_time": "2025-08-11T23:44:06.669037",
     "exception": false,
     "start_time": "2025-08-11T23:44:06.632012",
     "status": "completed"
    },
    "tags": []
   },
   "outputs": [
    {
     "name": "stdout",
     "output_type": "stream",
     "text": [
      "<class 'pandas.core.frame.DataFrame'>\n",
      "RangeIndex: 9537 entries, 0 to 9536\n",
      "Data columns (total 11 columns):\n",
      " #   Column               Non-Null Count  Dtype  \n",
      "---  ------               --------------  -----  \n",
      " 0   session_id           9537 non-null   object \n",
      " 1   network_packet_size  9537 non-null   int64  \n",
      " 2   protocol_type        9537 non-null   object \n",
      " 3   login_attempts       9537 non-null   int64  \n",
      " 4   session_duration     9537 non-null   float64\n",
      " 5   encryption_used      7571 non-null   object \n",
      " 6   ip_reputation_score  9537 non-null   float64\n",
      " 7   failed_logins        9537 non-null   int64  \n",
      " 8   browser_type         9537 non-null   object \n",
      " 9   unusual_time_access  9537 non-null   int64  \n",
      " 10  attack_detected      9537 non-null   int64  \n",
      "dtypes: float64(2), int64(5), object(4)\n",
      "memory usage: 819.7+ KB\n"
     ]
    }
   ],
   "source": [
    "# Show all infos\n",
    "data.info()"
   ]
  },
  {
   "cell_type": "code",
   "execution_count": 13,
   "id": "c8650bae",
   "metadata": {
    "execution": {
     "iopub.execute_input": "2025-08-11T23:44:06.685208Z",
     "iopub.status.busy": "2025-08-11T23:44:06.684806Z",
     "iopub.status.idle": "2025-08-11T23:44:06.698127Z",
     "shell.execute_reply": "2025-08-11T23:44:06.696898Z"
    },
    "papermill": {
     "duration": 0.024474,
     "end_time": "2025-08-11T23:44:06.700628",
     "exception": false,
     "start_time": "2025-08-11T23:44:06.676154",
     "status": "completed"
    },
    "tags": []
   },
   "outputs": [
    {
     "data": {
      "text/plain": [
       "session_id                0\n",
       "network_packet_size       0\n",
       "protocol_type             0\n",
       "login_attempts            0\n",
       "session_duration          0\n",
       "encryption_used        1966\n",
       "ip_reputation_score       0\n",
       "failed_logins             0\n",
       "browser_type              0\n",
       "unusual_time_access       0\n",
       "attack_detected           0\n",
       "dtype: int64"
      ]
     },
     "execution_count": 13,
     "metadata": {},
     "output_type": "execute_result"
    }
   ],
   "source": [
    "# Check missing values\n",
    "data.isnull().sum()"
   ]
  },
  {
   "cell_type": "code",
   "execution_count": 14,
   "id": "7d891ee4",
   "metadata": {
    "execution": {
     "iopub.execute_input": "2025-08-11T23:44:06.718559Z",
     "iopub.status.busy": "2025-08-11T23:44:06.716990Z",
     "iopub.status.idle": "2025-08-11T23:44:07.631807Z",
     "shell.execute_reply": "2025-08-11T23:44:07.630036Z"
    },
    "papermill": {
     "duration": 0.927279,
     "end_time": "2025-08-11T23:44:07.635229",
     "exception": false,
     "start_time": "2025-08-11T23:44:06.707950",
     "status": "completed"
    },
    "tags": []
   },
   "outputs": [
    {
     "data": {
      "image/png": "[encoded data removed]",
      "text/plain": [
       "<Figure size 640x480 with 1 Axes>"
      ]
     },
     "metadata": {},
     "output_type": "display_data"
    },
    {
     "data": {
      "image/png": "[encoded data removed]",
      "text/plain": [
       "<Figure size 640x480 with 1 Axes>"
      ]
     },
     "metadata": {},
     "output_type": "display_data"
    }
   ],
   "source": [
    "# Some distributions \n",
    "\n",
    "# Login attempt counter\n",
    "data['login_attempts'].hist(bins=50)\n",
    "plt.title(\"Login Attempts Count\")\n",
    "plt.show()\n",
    "\n",
    "# Network Packet Size\n",
    "sns.violinplot(y=data['network_packet_size'])\n",
    "plt.title(\"Network Packet Size Distribution\")\n",
    "plt.show()\n"
   ]
  },
  {
   "cell_type": "code",
   "execution_count": 15,
   "id": "0c6e8631",
   "metadata": {
    "execution": {
     "iopub.execute_input": "2025-08-11T23:44:07.656673Z",
     "iopub.status.busy": "2025-08-11T23:44:07.655937Z",
     "iopub.status.idle": "2025-08-11T23:44:08.723939Z",
     "shell.execute_reply": "2025-08-11T23:44:08.722250Z"
    },
    "papermill": {
     "duration": 1.082389,
     "end_time": "2025-08-11T23:44:08.726602",
     "exception": false,
     "start_time": "2025-08-11T23:44:07.644213",
     "status": "completed"
    },
    "tags": []
   },
   "outputs": [
    {
     "data": {
      "image/png": "[encoded data removed]",
      "text/plain": [
       "<Figure size 640x480 with 1 Axes>"
      ]
     },
     "metadata": {},
     "output_type": "display_data"
    },
    {
     "name": "stderr",
     "output_type": "stream",
     "text": [
      "/tmp/ipykernel_13/577826006.py:14: FutureWarning: \n",
      "\n",
      "`shade` is now deprecated in favor of `fill`; setting `fill=True`.\n",
      "This will become an error in seaborn v0.14.0; please update your code.\n",
      "\n",
      "  sns.kdeplot(data['session_duration'], shade=True, ax=axes[1])\n",
      "/usr/local/lib/python3.11/dist-packages/seaborn/_oldcore.py:1119: FutureWarning: use_inf_as_na option is deprecated and will be removed in a future version. Convert inf values to NaN before operating instead.\n",
      "  with pd.option_context('mode.use_inf_as_na', True):\n"
     ]
    },
    {
     "data": {
      "image/png": "[encoded data removed]",
      "text/plain": [
       "<Figure size 1200x500 with 2 Axes>"
      ]
     },
     "metadata": {},
     "output_type": "display_data"
    }
   ],
   "source": [
    "# Login attempts & failed logins compared\n",
    "plt.plot(data['login_attempts'].head(100), color = 'y')\n",
    "plt.plot(data['failed_logins'].head(100), color = 'r')\n",
    "plt.show()\n",
    "\n",
    "fig, axes = plt.subplots(1, 2, figsize=(12, 5))  # 1 row, 2 columns\n",
    "\n",
    "# Right plot: Histogram (density)\n",
    "axes[0].hist(data['session_duration'], bins=100, density=False, alpha=0.6, color='b')\n",
    "axes[0].set_xlabel('Session Duration (minutes)')\n",
    "axes[0].set_title('Histogram of Session Duration')\n",
    "\n",
    "# Left plot: KDE\n",
    "sns.kdeplot(data['session_duration'], shade=True, ax=axes[1])\n",
    "axes[1].set_xlabel('Session Duration (minutes)')\n",
    "axes[1].set_title('KDE of Session Duration')\n",
    "\n",
    "\n",
    "\n",
    "plt.tight_layout()\n",
    "plt.show()"
   ]
  }
 ],
 "metadata": {
  "kaggle": {
   "accelerator": "none",
   "dataSources": [
    {
     "datasetId": 8052041,
     "sourceId": 12738252,
     "sourceType": "datasetVersion"
    }
   ],
   "dockerImageVersionId": 31089,
   "isGpuEnabled": false,
   "isInternetEnabled": true,
   "language": "python",
   "sourceType": "notebook"
  },
  "kernelspec": {
   "display_name": "Python 3",
   "language": "python",
   "name": "python3"
  },
  "language_info": {
   "codemirror_mode": {
    "name": "ipython",
    "version": 3
   },
   "file_extension": ".py",
   "mimetype": "text/x-python",
   "name": "python",
   "nbconvert_exporter": "python",
   "pygments_lexer": "ipython3",
   "version": "3.11.13"
  },
  "papermill": {
   "default_parameters": {},
   "duration": 16.059604,
   "end_time": "2025-08-11T23:44:09.677345",
   "environment_variables": {},
   "exception": null,
   "input_path": "__notebook__.ipynb",
   "output_path": "__notebook__.ipynb",
   "parameters": {},
   "start_time": "2025-08-11T23:43:53.617741",
   "version": "2.6.0"
  }
 },
 "nbformat": 4,
 "nbformat_minor": 5
}
